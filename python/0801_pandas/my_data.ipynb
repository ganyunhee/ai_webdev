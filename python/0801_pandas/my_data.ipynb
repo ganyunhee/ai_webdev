{
 "cells": [
  {
   "cell_type": "markdown",
   "metadata": {},
   "source": [
    "### pandas로 my_data.csv를 수정하여 저장하기\n",
    "\n",
    "요구사항\n",
    "1. Unnamed:0라고 표기되는 열을 지운다. 단 Unnamed:0라 쓰지말고 새롭게 컬럼 이름을 만들어서 지운다.\n",
    "2. 0,1,2,3,4로 보여지는 index 부분을 지운다.\n",
    "3. name에 해당되는 영문 이름을 한글로 바꾼다.\n",
    "4. salary에 해당되는 숫자를 000 세자리 단위로 콤마를 넣어서 값을 바꿔 넣는다.\n",
    "5. 1~4를 처리하고 나서 csv파일로 저장한다.\n",
    "\n",
    "제출은 파이썬 파일 혹은 쥬피터 파일을 작성하여 업로드하면 된다."
   ]
  },
  {
   "cell_type": "markdown",
   "metadata": {},
   "source": [
    "---\n",
    "### 1. `Unnamed: 0` 표시되는 열 삭제\n",
    "\n",
    "- Unnamed:0 열은 데이터프레임에서 index를 나타내는 열이다.\n",
    "- 데이터를 출력할 때 가끔 필요없으니 더 깔끔한 데이터 표시를 위해 Unnamed:0을 삭제해도 된다.\n",
    "\n",
    "    > ref. \n",
    "    > 1. https://stackoverflow.com/questions/36519086/how-to-get-rid-of-unnamed-0-column-in-a-pandas-dataframe-read-in-from-csv-fil\n",
    "    > 2. https://datagy.io/pandas-drop-index-column/\n",
    "    > 3. https://good-coding.tistory.com/39\n",
    "    > 4. https://blog.enterprisedna.co/pandas-drop-index/\n"
   ]
  },
  {
   "cell_type": "code",
   "execution_count": 728,
   "metadata": {},
   "outputs": [],
   "source": [
    "import pandas as pd"
   ]
  },
  {
   "cell_type": "code",
   "execution_count": 729,
   "metadata": {},
   "outputs": [
    {
     "name": "stdout",
     "output_type": "stream",
     "text": [
      "   Unnamed: 0     name  age  salary\n",
      "0           0    Alice   25   50000\n",
      "1           1      Bob   30   60000\n",
      "2           2  Charlie   35   70000\n",
      "3           3    james   30  400000\n",
      "4           4    Alice   25   50000\n",
      "5           5      Bob   30   60000\n",
      "6           6  Charlie   35   70000\n",
      "7           7    james   30  400000\n"
     ]
    }
   ],
   "source": [
    "csv_data = pd.read_csv('my_data.csv')\n",
    "print(csv_data)"
   ]
  },
  {
   "cell_type": "markdown",
   "metadata": {},
   "source": [
    "#### Method 1 - 새로 이름을 변경하고 나서 열 삭제"
   ]
  },
  {
   "cell_type": "code",
   "execution_count": 730,
   "metadata": {},
   "outputs": [
    {
     "name": "stdout",
     "output_type": "stream",
     "text": [
      "      name  age  salary\n",
      "0    Alice   25   50000\n",
      "1      Bob   30   60000\n",
      "2  Charlie   35   70000\n",
      "3    james   30  400000\n",
      "4    Alice   25   50000\n",
      "5      Bob   30   60000\n",
      "6  Charlie   35   70000\n",
      "7    james   30  400000\n"
     ]
    }
   ],
   "source": [
    "# drop 함수 사용\n",
    "\n",
    "csv_data.rename(columns = {'Unnamed: 0':'index'}, inplace = True)\n",
    "csv_data.drop(['index'], axis=1, inplace=True)\n",
    "csv_data\n",
    "print(csv_data)"
   ]
  },
  {
   "cell_type": "markdown",
   "metadata": {},
   "source": [
    "#### Method 2 - csv를 읽을 때 Unnamed: 0 컬럼을 index로 설정"
   ]
  },
  {
   "cell_type": "code",
   "execution_count": 731,
   "metadata": {},
   "outputs": [
    {
     "name": "stdout",
     "output_type": "stream",
     "text": [
      "      name  age  salary\n",
      "0    Alice   25   50000\n",
      "1      Bob   30   60000\n",
      "2  Charlie   35   70000\n",
      "3    james   30  400000\n",
      "4    Alice   25   50000\n",
      "5      Bob   30   60000\n",
      "6  Charlie   35   70000\n",
      "7    james   30  400000\n"
     ]
    }
   ],
   "source": [
    "# read_csv 함수 옵션 변경 (첫번째 column을 index로 사용)\n",
    "\n",
    "csv_data = pd.read_csv('my_data.csv', index_col=0)\n",
    "print(csv_data)"
   ]
  },
  {
   "cell_type": "markdown",
   "metadata": {},
   "source": [
    "---\n",
    "### 2. index 부분 지우기\n",
    "\n",
    "- 0, 1, 2, 3, 4 index 열/부분 지운다."
   ]
  },
  {
   "cell_type": "code",
   "execution_count": 732,
   "metadata": {},
   "outputs": [
    {
     "name": "stdout",
     "output_type": "stream",
     "text": [
      "      name  age  salary\n",
      "0    Alice   25   50000\n",
      "1      Bob   30   60000\n",
      "2  Charlie   35   70000\n",
      "3    james   30  400000\n",
      "4    Alice   25   50000\n",
      "5      Bob   30   60000\n",
      "6  Charlie   35   70000\n",
      "7    james   30  400000\n"
     ]
    }
   ],
   "source": [
    "print(csv_data)"
   ]
  },
  {
   "cell_type": "code",
   "execution_count": 733,
   "metadata": {},
   "outputs": [
    {
     "name": "stdout",
     "output_type": "stream",
     "text": [
      "         age  salary\n",
      "name                \n",
      "Alice     25   50000\n",
      "Bob       30   60000\n",
      "Charlie   35   70000\n",
      "james     30  400000\n",
      "Alice     25   50000\n",
      "Bob       30   60000\n",
      "Charlie   35   70000\n",
      "james     30  400000\n"
     ]
    }
   ],
   "source": [
    "# index를 다음 열(name)으로 설정\n",
    "csv_data = csv_data.set_index(['name'])\n",
    "print(csv_data)"
   ]
  },
  {
   "cell_type": "code",
   "execution_count": 734,
   "metadata": {},
   "outputs": [
    {
     "name": "stdout",
     "output_type": "stream",
     "text": [
      "name\n",
      "Bob    30\n",
      "Bob    30\n",
      "Name: age, dtype: int64\n"
     ]
    }
   ],
   "source": [
    "print(csv_data.at['Bob', 'age'])"
   ]
  },
  {
   "cell_type": "markdown",
   "metadata": {},
   "source": [
    "---\n",
    "### 3. name에 해당되는 영문 이름을 한글로 변경"
   ]
  },
  {
   "cell_type": "code",
   "execution_count": 735,
   "metadata": {},
   "outputs": [],
   "source": [
    "kor_names = {\"Alice\":\"앨리스\", \n",
    "             \"Bob\":\"밥\", \n",
    "             \"Charlie\":\"찰리\", \n",
    "             \"james\":\"제임스\"}"
   ]
  },
  {
   "cell_type": "code",
   "execution_count": 736,
   "metadata": {},
   "outputs": [
    {
     "name": "stdout",
     "output_type": "stream",
     "text": [
      "      age  salary\n",
      "name             \n",
      "앨리스    25   50000\n",
      "밥      30   60000\n",
      "찰리     35   70000\n",
      "제임스    30  400000\n",
      "앨리스    25   50000\n",
      "밥      30   60000\n",
      "찰리     35   70000\n",
      "제임스    30  400000\n"
     ]
    }
   ],
   "source": [
    "csv_data = csv_data.reset_index(level='name')\n",
    "csv_data = csv_data.replace({'name': kor_names})\n",
    "csv_data = csv_data.set_index('name')\n",
    "print(csv_data)"
   ]
  },
  {
   "cell_type": "markdown",
   "metadata": {},
   "source": [
    "---\n",
    "### salary에 해당되는 숫자를 000 세자리 단위로 콤마를 넣어서 값을 바꿔 넣기"
   ]
  },
  {
   "cell_type": "markdown",
   "metadata": {},
   "source": [
    "#### Method 1 - salary 숫자가 자리수가 변경되지 않을 경우\n",
    "\n",
    "- list slicing 활용"
   ]
  },
  {
   "cell_type": "code",
   "execution_count": 737,
   "metadata": {},
   "outputs": [
    {
     "data": {
      "text/plain": [
       "name\n",
       "앨리스     50000\n",
       "밥       60000\n",
       "찰리      70000\n",
       "제임스    400000\n",
       "앨리스     50000\n",
       "밥       60000\n",
       "찰리      70000\n",
       "제임스    400000\n",
       "Name: salary, dtype: int64"
      ]
     },
     "execution_count": 737,
     "metadata": {},
     "output_type": "execute_result"
    }
   ],
   "source": [
    "csv_data['salary']"
   ]
  },
  {
   "cell_type": "code",
   "execution_count": 738,
   "metadata": {},
   "outputs": [
    {
     "name": "stdout",
     "output_type": "stream",
     "text": [
      "['50,000', '60,000', '70,000', '400,000', '50,000', '60,000', '70,000', '400,000']\n"
     ]
    }
   ],
   "source": [
    "new_salary = []\n",
    "\n",
    "for item in csv_data['salary']:\n",
    "    \n",
    "    list_of_digits= list(str(item))[:-3]\n",
    "    list_of_digits.append(',')\n",
    "    \n",
    "    new_item = \"\"\n",
    "\n",
    "    for character in list_of_digits:\n",
    "        new_item += str(character)\n",
    "    new_item += \"000\"\n",
    "\n",
    "    new_salary.append(new_item)\n",
    "\n",
    "print(new_salary)"
   ]
  },
  {
   "cell_type": "code",
   "execution_count": 739,
   "metadata": {},
   "outputs": [
    {
     "name": "stdout",
     "output_type": "stream",
     "text": [
      "      age   salary\n",
      "name              \n",
      "앨리스    25   50,000\n",
      "밥      30   60,000\n",
      "찰리     35   70,000\n",
      "제임스    30  400,000\n",
      "앨리스    25   50,000\n",
      "밥      30   60,000\n",
      "찰리     35   70,000\n",
      "제임스    30  400,000\n"
     ]
    }
   ],
   "source": [
    "csv_data['salary'] = new_salary\n",
    "print(csv_data)"
   ]
  },
  {
   "cell_type": "markdown",
   "metadata": {},
   "source": [
    "#### Method 2 - salary 숫자 자리수가 변경될 수 있는 경우\n",
    "\n",
    "- `.format()` 사용"
   ]
  },
  {
   "cell_type": "code",
   "execution_count": 740,
   "metadata": {},
   "outputs": [
    {
     "name": "stdout",
     "output_type": "stream",
     "text": [
      "         age  salary\n",
      "name                \n",
      "Alice     25   50000\n",
      "Bob       30   60000\n",
      "Charlie   35   70000\n",
      "james     30  400000\n",
      "Alice     25   50000\n",
      "Bob       30   60000\n",
      "Charlie   35   70000\n",
      "james     30  400000\n"
     ]
    }
   ],
   "source": [
    "csv_data2 = pd.read_csv('my_data.csv', index_col=0)\n",
    "csv_data2 = csv_data2.set_index(['name'])\n",
    "print(csv_data2)"
   ]
  },
  {
   "cell_type": "code",
   "execution_count": 741,
   "metadata": {},
   "outputs": [
    {
     "name": "stdout",
     "output_type": "stream",
     "text": [
      "['50,000', '60,000', '70,000', '400,000', '50,000', '60,000', '70,000', '400,000']\n"
     ]
    }
   ],
   "source": [
    "new_salary2 = []\n",
    "\n",
    "for item in csv_data2['salary']:\n",
    "    # separate with commas\n",
    "    formatted = \"{:,}\".format(item)\n",
    "    new_salary2.append(formatted)\n",
    "\n",
    "print(new_salary2)"
   ]
  },
  {
   "cell_type": "code",
   "execution_count": 742,
   "metadata": {},
   "outputs": [
    {
     "name": "stdout",
     "output_type": "stream",
     "text": [
      "         age   salary\n",
      "name                 \n",
      "Alice     25   50,000\n",
      "Bob       30   60,000\n",
      "Charlie   35   70,000\n",
      "james     30  400,000\n",
      "Alice     25   50,000\n",
      "Bob       30   60,000\n",
      "Charlie   35   70,000\n",
      "james     30  400,000\n"
     ]
    }
   ],
   "source": [
    "csv_data2['salary'] = new_salary2\n",
    "print(csv_data2)"
   ]
  },
  {
   "cell_type": "code",
   "execution_count": 743,
   "metadata": {},
   "outputs": [],
   "source": [
    "csv_data = csv_data2"
   ]
  },
  {
   "cell_type": "markdown",
   "metadata": {},
   "source": [
    "---\n",
    "### 5. csv 파일로 저장"
   ]
  },
  {
   "cell_type": "code",
   "execution_count": 744,
   "metadata": {},
   "outputs": [],
   "source": [
    "csv_data.to_csv('my_data_new.csv')"
   ]
  }
 ],
 "metadata": {
  "kernelspec": {
   "display_name": "base",
   "language": "python",
   "name": "python3"
  },
  "language_info": {
   "codemirror_mode": {
    "name": "ipython",
    "version": 3
   },
   "file_extension": ".py",
   "mimetype": "text/x-python",
   "name": "python",
   "nbconvert_exporter": "python",
   "pygments_lexer": "ipython3",
   "version": "3.9.16"
  },
  "orig_nbformat": 4
 },
 "nbformat": 4,
 "nbformat_minor": 2
}
