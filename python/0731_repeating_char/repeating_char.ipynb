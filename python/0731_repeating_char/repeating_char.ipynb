{
 "cells": [
  {
   "cell_type": "markdown",
   "metadata": {},
   "source": [
    "파이썬으로 일부 중복되는 element를 저장하고 최소 element가 10개이상 되는 배열을 만든다. 그리고 set() 구문 없이 오로지 for in 문으로 배열의 중복된 값을 없애는 코드를 작성하기\n",
    "\n",
    "---"
   ]
  },
  {
   "cell_type": "markdown",
   "metadata": {},
   "source": [
    "#### 알고리즘\n",
    "\n",
    "1) element 리스트 생성\n",
    "2) 새로운 빈 리스트 따로 생성\n",
    "3) element 리스트 순회 (각 원소를 체크할때 까지)\n",
    "    - (각 원소를 체크하여) 빈 리스트에 없으면 그 리스트에 원소 추가\n",
    "4) 최종 리스트를 출력"
   ]
  },
  {
   "cell_type": "markdown",
   "metadata": {},
   "source": [
    "---"
   ]
  },
  {
   "cell_type": "markdown",
   "metadata": {},
   "source": [
    "SAMPLE. Numbers"
   ]
  },
  {
   "cell_type": "code",
   "execution_count": 3,
   "metadata": {},
   "outputs": [
    {
     "name": "stdout",
     "output_type": "stream",
     "text": [
      "[1, 2, 3, 4, 5, 6, 7, 8]\n"
     ]
    }
   ],
   "source": [
    "numbers = [1, 2, 2, 3, 4, 4, 5, 6, 7, 8]\n",
    "\n",
    "new_list = []\n",
    "\n",
    "for i in numbers:\n",
    "    if i not in new_list:\n",
    "        new_list.append(i)\n",
    "\n",
    "print(new_list)"
   ]
  },
  {
   "cell_type": "markdown",
   "metadata": {},
   "source": [
    "---"
   ]
  },
  {
   "cell_type": "markdown",
   "metadata": {},
   "source": [
    "SAMPLE. Strings"
   ]
  },
  {
   "cell_type": "code",
   "execution_count": 6,
   "metadata": {},
   "outputs": [
    {
     "name": "stdout",
     "output_type": "stream",
     "text": [
      "['abc', 'what', 'abcd', 'hello', 'James', 'kids', 'wow', 'connected-word', 'mine', 'What']\n"
     ]
    }
   ],
   "source": [
    "words = [\"abc\", \"what\", \"abc\", \"abcd\", \"hello\", \"James\", \"kids\", \"wow\", \"connected-word\", \"mine\", \"What\"]\n",
    "\n",
    "new_words = []\n",
    "\n",
    "for word in words:\n",
    "    if word not in new_words:\n",
    "        new_words.append(word)\n",
    "\n",
    "print(new_words) "
   ]
  }
 ],
 "metadata": {
  "kernelspec": {
   "display_name": "base",
   "language": "python",
   "name": "python3"
  },
  "language_info": {
   "codemirror_mode": {
    "name": "ipython",
    "version": 3
   },
   "file_extension": ".py",
   "mimetype": "text/x-python",
   "name": "python",
   "nbconvert_exporter": "python",
   "pygments_lexer": "ipython3",
   "version": "3.9.16"
  },
  "orig_nbformat": 4
 },
 "nbformat": 4,
 "nbformat_minor": 2
}
