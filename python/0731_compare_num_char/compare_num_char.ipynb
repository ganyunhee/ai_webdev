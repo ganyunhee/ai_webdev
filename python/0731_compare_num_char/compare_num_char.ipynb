{
  "cells": [
    {
      "cell_type": "markdown",
      "metadata": {
        "id": "zg6l8p6fsrEy"
      },
      "source": [
        "숫자끼리 비교하는 연산과 문자끼리 비교하는 연산 중 왜 문자끼리 비교하는 연산이 상대적으로 불리한지 이유에 대해서 정리해보고 샘플 코드를 구현해서 제출하기"
      ]
    },
    {
      "cell_type": "markdown",
      "metadata": {
        "id": "jnEieyybsrE1"
      },
      "source": [
        "문자(char)끼리 비교\n",
        "- 대소문자 구분(case-sensitive)\n",
        "- 맞춤법(spelling)\n",
        "- 메모리 더 사용\n",
        "- 비교 연산자를 사용할 때 어떤 값을 비교하고 있는지 보기 어려움\n",
        "- 비교할 때 rich comparison 사용 (즉, 느림)\n",
        "\n",
        "\n",
        "숫자(number)끼리 비교\n",
        "- 메모리 덜 사용\n",
        "- 비교 연산자를 사용할 때 어떤 값을 비교하고 있는지 보기 쉬움\n",
        "- 비교할 때 direct comparison 사용 (즉, 빠름)"
      ]
    },
    {
      "cell_type": "markdown",
      "metadata": {
        "id": "qtC8YeSQsrE1"
      },
      "source": [
        "---"
      ]
    },
    {
      "cell_type": "markdown",
      "metadata": {},
      "source": [
        "## Prerequisite - string은 어떤 과정을 거쳐서 비교되는가?\n",
        "\n",
        "- 파이썬에서 string을 바교할 때 string에 들어 있는 문자별(letter-by-letter)로 비교가 되는 것이다.\n",
        "- 컴퓨터는 각 문자를 읽을 때 먼저 숫자 코드 또는 이진수(binary: 0, 1)로 전환하고 이진수 값을 서로 비교하고 나서 이진수 값을 다시 문자로 표현하고 결과를 알려준다.\n",
        "- 문자 to 이진수로 표현하는 방식은 encoding, 다시 이진수 to 문자로 표현하는 방식은 decoding이라고 부른다.\n",
        "    - 주로 사용되는 encoding 방식은 ASCII, Unicode이며, encoding 하는 방식에 따라 문자의 숫자코드가 달라진다.\n",
        "- 문자마다 숫자 코드가 다르기 때문에 string을 비교할 때 기본적으로 대소문자를 구분하고 문자의 순서 또는 맞춤법도 고려하여 비교한다.\\\\\n",
        "\n",
        "ref. https://favtutor.com/blogs/compare-strings-python"
      ]
    },
    {
      "cell_type": "markdown",
      "metadata": {
        "id": "qpqRq1KOsrE2"
      },
      "source": [
        "# 대소문자 구분 (case-sensitive comparison)\n",
        "\n",
        "- `==` 연산자 또는 `__eq__` rich comparison 함수를 통해 case-sensitive한 string 비교를 할 수 있다.\n",
        "- 또는, `is` 연산자를 통해 두 string의 내용 뿐만 아니라 서로 유사한 객체인지 확인하여 비교할 수 있다."
      ]
    },
    {
      "cell_type": "code",
      "execution_count": 18,
      "metadata": {
        "colab": {
          "base_uri": "https://localhost:8080/"
        },
        "id": "iw0R-PmAzH0Q",
        "outputId": "4174dc3e-f3a6-4e9e-b2f7-500624f7451a"
      },
      "outputs": [
        {
          "name": "stdout",
          "output_type": "stream",
          "text": [
            "False\n",
            "False\n",
            "False\n"
          ]
        }
      ],
      "source": [
        "string1 = \"Rock\"\n",
        "string2 = \"rock\"\n",
        "\n",
        "print(string1 == string2)\n",
        "print(string1.__eq__(string2))\n",
        "print(string1 is string2)"
      ]
    },
    {
      "cell_type": "markdown",
      "metadata": {
        "id": "WnLuKrskz7nS"
      },
      "source": [
        "# 대소문자 구분 Workaround\n",
        "- casefold() or lower(), upper() 함수를 사용해 입력된 문자 또는 문자열을 소문자/대문자로 변경한 후 문자끼리 대소문자 구분에 대한 걱정 없이 비교할 수 있다."
      ]
    },
    {
      "cell_type": "code",
      "execution_count": 19,
      "metadata": {
        "colab": {
          "base_uri": "https://localhost:8080/"
        },
        "id": "mzildv0b0MEG",
        "outputId": "c010d493-22e9-45aa-a6d9-ec721fc10e42"
      },
      "outputs": [
        {
          "name": "stdout",
          "output_type": "stream",
          "text": [
            "True\n",
            "True\n",
            "False\n",
            "False\n"
          ]
        }
      ],
      "source": [
        "string1 = \"Rock\"\n",
        "string2 = \"rock\"\n",
        "\n",
        "print(string1.lower() == string2.lower())\n",
        "print(string1.upper() == string2.upper())\n",
        "print(string1.lower() is string2.lower())\n",
        "print(string1.upper() is string2.upper())"
      ]
    },
    {
      "cell_type": "markdown",
      "metadata": {
        "id": "6iu662jb4U4Z"
      },
      "source": [
        "#### NOTE. 'is' 와 '==' 의 차이\n",
        "\n",
        "- `is` : 같은 객체이면 True를 return함\n",
        "- `==` : 같은 값이면 True를 return함"
      ]
    },
    {
      "cell_type": "markdown",
      "metadata": {
        "id": "s3-jUxpBzIPQ"
      },
      "source": [
        "# 사용자 입력이 복잡해짐\n",
        "  - 사용자가 입력한 값 또는 내용을 무엇인가랑 비교할 때\n",
        "    문자의 경우에는 대소문자 구분과 맞춤법 때문에 input이 제대로 인식이 안 될 수 있다. 이 때문에 해결방식이나 workaround 등을 따로 사용해야 한다."
      ]
    },
    {
      "cell_type": "code",
      "execution_count": 39,
      "metadata": {
        "colab": {
          "base_uri": "https://localhost:8080/"
        },
        "id": "YsbW3WqEsrE2",
        "outputId": "c5738320-4c9d-404f-f22d-c179bd1f2054"
      },
      "outputs": [
        {
          "name": "stdout",
          "output_type": "stream",
          "text": [
            "Your input:  ROCK\n",
            "Invalid input.\n"
          ]
        }
      ],
      "source": [
        "# Sample Rock Paper Scissors Game\n",
        "\n",
        "choices = ['rock', 'paper', 'scissors']\n",
        "\n",
        "choice = input('Rock, Paper, Scissors? ')\n",
        "\n",
        "print(\"Your input: \", choice)\n",
        "\n",
        "if choice == choices[0] or choice == choices[1] or choice == choices[2]:\n",
        "    print(\"You picked\", choice)\n",
        "else:\n",
        "    print(\"Invalid input.\")    \n",
        "\n",
        "# 만약 'ROCK'이라고 입력하면 잘못된 입력으로 인식됨"
      ]
    },
    {
      "attachments": {
        "image-2.png": {
          "image/png": "[encoded data removed]"
        },
        "image.png": {
          "image/png": "[encoded data removed]"
        }
      },
      "cell_type": "markdown",
      "metadata": {},
      "source": [
        "#### 대문자 입력 예시\n",
        "![image-2.png](attachment:image-2.png)\n",
        "#### 소문자 입력 예시\n",
        "![image.png](attachment:image.png)"
      ]
    },
    {
      "cell_type": "markdown",
      "metadata": {
        "id": "EdVprfyEs3zX"
      },
      "source": [
        "# 사용자 입력 Workaround\n",
        "\n",
        "- 대소문자를 구분할 수 없이 입력된 문자열의 문자를 모두 소문자로 변경하고 나서 비교를 한다."
      ]
    },
    {
      "cell_type": "code",
      "execution_count": 41,
      "metadata": {
        "colab": {
          "base_uri": "https://localhost:8080/"
        },
        "id": "7320WLJTsrE3",
        "outputId": "2fee9538-1a39-46d5-b4c1-cf84ada82bb5"
      },
      "outputs": [
        {
          "name": "stdout",
          "output_type": "stream",
          "text": [
            "Your input: RoCk\n",
            "rock\n",
            "You picked RoCk\n"
          ]
        }
      ],
      "source": [
        "# Sample Rock Paper Scissors Game\n",
        "\n",
        "choices = ['rock', 'paper', 'scissors']\n",
        "\n",
        "choice = input('Rock, Paper, Scissors? ')\n",
        "\n",
        "print(\"Your input:\", choice)\n",
        "\n",
        "print(choice.lower())\n",
        "\n",
        "if choice.lower() in choices:\n",
        "    print(\"You picked\", choice)\n",
        "else:\n",
        "    print(\"Invalid input\")\n",
        "\n",
        "# 만약 'ROCK'이라고 입력하면 잘못된 입력으로 인식됨"
      ]
    },
    {
      "cell_type": "markdown",
      "metadata": {
        "id": "X8iL10zPt5Iw"
      },
      "source": [
        "# 맞춤법\n",
        "- 문자열을 서로 비교할 경우 맞춤법이 틀리면 서로 아예 다른 문자열로 인식된다."
      ]
    },
    {
      "cell_type": "code",
      "execution_count": 22,
      "metadata": {
        "colab": {
          "base_uri": "https://localhost:8080/"
        },
        "id": "A7hL97Jytdel",
        "outputId": "1e098cf4-6e0c-4789-8a3c-cbb87a90b2db"
      },
      "outputs": [
        {
          "name": "stdout",
          "output_type": "stream",
          "text": [
            "False\n",
            "False\n"
          ]
        }
      ],
      "source": [
        "string1 = \"nice\"\n",
        "string2 = \"nece\"\n",
        "\n",
        "print(string1 is string2)\n",
        "print(string1 == string2)"
      ]
    },
    {
      "cell_type": "markdown",
      "metadata": {
        "id": "ut7BY9WfvMGZ"
      },
      "source": [
        "# 변수의 메모리 사용\n",
        "- 문자는 숫자보다 CPU와 메모리를 더 사용한다."
      ]
    },
    {
      "cell_type": "code",
      "execution_count": 23,
      "metadata": {
        "colab": {
          "base_uri": "https://localhost:8080/"
        },
        "id": "BKb1ZtT_unHX",
        "outputId": "8b5d60d2-6c00-4c40-c757-6c2aa897d894"
      },
      "outputs": [
        {
          "name": "stdout",
          "output_type": "stream",
          "text": [
            "Size of char: 50\n",
            "Size of int: 28\n"
          ]
        }
      ],
      "source": [
        "import sys\n",
        "\n",
        "print(\"Size of char:\", sys.getsizeof('a'))\n",
        "print(\"Size of int:\", sys.getsizeof(1))"
      ]
    },
    {
      "cell_type": "markdown",
      "metadata": {
        "id": "YAf6Gp1JvhGX"
      },
      "source": [
        "# 비교 연산자와 같이 사용\n",
        "- 숫자의 경우는 \"`>, <, <=, >=`\" 와 같은 비교 연산자를 통해 비교하면 써도 무엇을 비교하는지 바로 알 수가 있다.\n",
        "- 문자의 경우는 비교 연산자를 통해 비교하면 보기만으로 무슨 연산을 하는지 이해하기가 어렵다."
      ]
    },
    {
      "cell_type": "markdown",
      "metadata": {
        "id": "HEfjDHokwNNa"
      },
      "source": [
        "## 문자 또는 문자열과 비교 연산자"
      ]
    },
    {
      "cell_type": "code",
      "execution_count": 24,
      "metadata": {
        "colab": {
          "base_uri": "https://localhost:8080/"
        },
        "id": "NHUF-9F3u_TC",
        "outputId": "809b2789-bc51-44ff-c820-b87fd78f2b16"
      },
      "outputs": [
        {
          "name": "stdout",
          "output_type": "stream",
          "text": [
            "True\n",
            "True\n",
            "True\n"
          ]
        }
      ],
      "source": [
        "print('a' < 'b')\n",
        "print(\"abcd\" < \"abce\")\n",
        "print('0' < '1')"
      ]
    },
    {
      "cell_type": "markdown",
      "metadata": {
        "id": "N9LfPEYQxTv2"
      },
      "source": [
        "- 문자를 비교 연산자로 비교하면 각 문자의 ASCII 값에 따라 비교한다.\n",
        "         e.g. 'a' : 97, 'b' : 98  \n",
        "              '0' : 48, '1' : 49\n",
        "\n",
        "- 즉, 문자나 문자열도 각 문자에 해당하는 숫자(ASCII) 값에 따라 비교한다."
      ]
    },
    {
      "cell_type": "markdown",
      "metadata": {
        "id": "MTpU4FfZwSee"
      },
      "source": [
        "## 숫자와 비교 연산자"
      ]
    },
    {
      "cell_type": "code",
      "execution_count": 25,
      "metadata": {
        "colab": {
          "base_uri": "https://localhost:8080/"
        },
        "id": "qQ0MnHicwUqk",
        "outputId": "0c8b9b13-352e-4c1a-c532-e84bf91b9288"
      },
      "outputs": [
        {
          "name": "stdout",
          "output_type": "stream",
          "text": [
            "True\n"
          ]
        }
      ],
      "source": [
        "print(1 < 2)\n",
        "# 1이 2보다 작은지 확인하는 코드"
      ]
    },
    {
      "cell_type": "markdown",
      "metadata": {
        "id": "R05dWiB56lAh"
      },
      "source": [
        "# Supplement - rich comparison vs. direct comparison\n",
        "\n",
        "    \"So string comparison is slower because it has to use the\n",
        "    complicated \"rich comparison\" infrastructure, whereas integer\n",
        "     comparison is more direct.\"\n",
        "  ref. In practice, why compare integer is better than compare string?<br>\n",
        "  https://stackoverflow.com/questions/14400018/in-practice-why-compare-integer-is-better-than-compare-string\n",
        "\n",
        "\n",
        "#### *more on rich comparison operators*\n",
        "\n",
        "- Unravelling rich comparison operators. <br>\n",
        "https://snarky.ca/unravelling-rich-comparison-operators/\n",
        "- Comparison operators vs “rich comparison” methods in Python. <br>\n",
        "https://stackoverflow.com/questions/47797346/comparison-operators-vs-rich-comparison-methods-in-python"
      ]
    },
    {
      "cell_type": "markdown",
      "metadata": {
        "id": "H2r8hWV04jD_"
      },
      "source": [
        "# 기타 참고자료\n",
        "\n",
        "- How to Compare Strings in Python. <br>\n",
        "https://www.altcademy.com/blog/how-to-compare-strings-in-python/\n",
        "- [Python] 문자열 비교하기. <br>\n",
        "https://cheris8.github.io/python/PY-Compare-String/#:~:text=%EB%AC%B8%EC%9E%90%EC%97%B4%EC%9D%B4%20%EC%99%84%EC%A0%84%ED%95%98%EA%B2%8C%20%EC%9D%BC%EC%B9%98,%ED%95%98%EB%A9%B4%20False%20%EB%A5%BC%20%EB%B0%98%ED%99%98%ED%95%A9%EB%8B%88%EB%8B%A4\n",
        "\n",
        "\n"
      ]
    }
  ],
  "metadata": {
    "colab": {
      "provenance": []
    },
    "kernelspec": {
      "display_name": "base",
      "language": "python",
      "name": "python3"
    },
    "language_info": {
      "codemirror_mode": {
        "name": "ipython",
        "version": 3
      },
      "file_extension": ".py",
      "mimetype": "text/x-python",
      "name": "python",
      "nbconvert_exporter": "python",
      "pygments_lexer": "ipython3",
      "version": "3.9.16"
    },
    "orig_nbformat": 4
  },
  "nbformat": 4,
  "nbformat_minor": 0
}
